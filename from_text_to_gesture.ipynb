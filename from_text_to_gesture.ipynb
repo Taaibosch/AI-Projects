{
 "cells": [
  {
   "cell_type": "code",
   "execution_count": 1,
   "metadata": {},
   "outputs": [],
   "source": [
    "import cv2\n",
    "import time\n",
    "import os\n",
    "import random"
   ]
  },
  {
   "cell_type": "code",
   "execution_count": 2,
   "metadata": {},
   "outputs": [
    {
     "name": "stdout",
     "output_type": "stream",
     "text": [
      "Reading constructed word: ABCEFG\n"
     ]
    }
   ],
   "source": [
    "import cv2\n",
    "import time\n",
    "import os\n",
    "import random\n",
    "\n",
    "# Function to display a random gesture corresponding to each letter\n",
    "def display_random_gesture(letter):\n",
    "\n",
    "    if letter == \" \":\n",
    "        gesture_folder = f'Data_Collected/SPACE'  # Each letter has its own folder\n",
    "    else:\n",
    "        gesture_folder = f'Data_Collected/{letter}'  # Each letter has its own folder\n",
    "    \n",
    "    \n",
    "    # Check if the folder exists\n",
    "    if os.path.exists(gesture_folder):\n",
    "        # Get all images in the folder\n",
    "        gesture_images = [f for f in os.listdir(gesture_folder) if f.endswith(('.png', '.jpg', '.jpeg'))]\n",
    "        \n",
    "        if gesture_images:\n",
    "            # Randomly select an image\n",
    "            selected_image = random.choice(gesture_images)\n",
    "            gesture_path = os.path.join(gesture_folder, selected_image)\n",
    "            \n",
    "            # Read the gesture image\n",
    "            gesture_image = cv2.imread(gesture_path)\n",
    "            \n",
    "            if gesture_image is not None:\n",
    "                # Show the gesture image in a window\n",
    "                cv2.imshow(\"Gesture\", gesture_image)\n",
    "                cv2.waitKey(1000)\n",
    "            else:\n",
    "                print(f\"No valid image found for letter: {letter}\")\n",
    "        else:\n",
    "            print(f\"No gesture images found in folder for letter: {letter}\")\n",
    "    else:\n",
    "        print(f\"Folder for letter {letter} does not exist.\")\n",
    "\n",
    "\n",
    "\n",
    "# Function to read the stored word\n",
    "def read_stored_word(file_path):\n",
    "    with open(file_path, 'r') as f:\n",
    "        return f.read().strip()\n",
    "    \n",
    "\n",
    "# Main function\n",
    "def main():\n",
    "\n",
    "    stored_words_file = 'stored_text_gestures/stored_words.txt'\n",
    "    \n",
    "    constructed_word = read_stored_word(stored_words_file)\n",
    "    \n",
    "    print(f\"Reading constructed word: {constructed_word}\")\n",
    "\n",
    "    if constructed_word in os.listdir(\"Data_collected\") and len(constructed_word) > 2:\n",
    "        display_random_gesture(constructed_word)\n",
    "        time.sleep(2)\n",
    "        cv2.destroyAllWindows()\n",
    "\n",
    "    else:\n",
    "        for letter in constructed_word:\n",
    "            display_random_gesture(letter)\n",
    "            time.sleep(2)\n",
    "\n",
    "            # Close the gesture image window after displaying it\n",
    "            cv2.destroyAllWindows()\n",
    "\n",
    "    cv2.waitKey(0)\n",
    "    cv2.destroyAllWindows()\n",
    "\n",
    "if __name__ == \"__main__\":\n",
    "    main()\n",
    "\n",
    "\n"
   ]
  },
  {
   "cell_type": "code",
   "execution_count": 3,
   "metadata": {},
   "outputs": [],
   "source": [
    "# Function to display a random gesture corresponding to each letter\n",
    "def display_random_gesture(letter):\n",
    "\n",
    "    if letter == \" \":\n",
    "        gesture_folder = f'Data_Collected/SPACE'  # Each letter has its own folder\n",
    "    else:\n",
    "        gesture_folder = f'Data_Collected/{letter}'  # Each letter has its own folder\n",
    "    \n",
    "    \n",
    "    # Check if the folder exists\n",
    "    if os.path.exists(gesture_folder):\n",
    "        # Get all images in the folder\n",
    "        gesture_images = [f for f in os.listdir(gesture_folder) if f.endswith(('.png', '.jpg', '.jpeg'))]\n",
    "        \n",
    "        if gesture_images:\n",
    "            # Randomly select an image\n",
    "            selected_image = random.choice(gesture_images)\n",
    "            gesture_path = os.path.join(gesture_folder, selected_image)\n",
    "            \n",
    "            # Read the gesture image\n",
    "            gesture_image = cv2.imread(gesture_path)\n",
    "            \n",
    "            if gesture_image is not None:\n",
    "                # Show the gesture image in a window\n",
    "                cv2.imshow(\"Gesture\", gesture_image)\n",
    "                cv2.waitKey(1000)\n",
    "            else:\n",
    "                print(f\"No valid image found for letter: {letter}\")\n",
    "        else:\n",
    "            print(f\"No gesture images found in folder for letter: {letter}\")\n",
    "    else:\n",
    "        print(f\"Folder for letter {letter} does not exist.\")\n"
   ]
  },
  {
   "cell_type": "code",
   "execution_count": 4,
   "metadata": {},
   "outputs": [],
   "source": [
    "\n",
    "# Function to read the stored word\n",
    "def read_stored_word(file_path):\n",
    "    with open(file_path, 'r') as f:\n",
    "        return f.read().strip()"
   ]
  },
  {
   "cell_type": "code",
   "execution_count": 10,
   "metadata": {},
   "outputs": [
    {
     "name": "stdout",
     "output_type": "stream",
     "text": [
      "Reading constructed word: KEA U RAPELA NGOANESO\n"
     ]
    }
   ],
   "source": [
    "# Main function\n",
    "def main():\n",
    "\n",
    "    stored_words_file = 'stored_text_gestures/stored_words.txt'\n",
    "    \n",
    "    constructed_word = read_stored_word(stored_words_file)\n",
    "    \n",
    "    print(f\"Reading constructed word: {constructed_word}\")\n",
    "\n",
    "    if constructed_word in os.listdir(\"Data_collected\") and len(constructed_word) > 1:\n",
    "        display_random_gesture(constructed_word)\n",
    "        time.sleep(2)\n",
    "        cv2.destroyAllWindows()\n",
    "\n",
    "    else:\n",
    "        for letter in constructed_word:\n",
    "            display_random_gesture(letter)\n",
    "            time.sleep(2)\n",
    "\n",
    "            # Close the gesture image window after displaying it\n",
    "            cv2.destroyAllWindows()\n",
    "\n",
    "    cv2.waitKey(0)\n",
    "    cv2.destroyAllWindows()\n",
    "\n",
    "if __name__ == \"__main__\":\n",
    "    main()"
   ]
  }
 ],
 "metadata": {
  "kernelspec": {
   "display_name": "base",
   "language": "python",
   "name": "python3"
  },
  "language_info": {
   "codemirror_mode": {
    "name": "ipython",
    "version": 3
   },
   "file_extension": ".py",
   "mimetype": "text/x-python",
   "name": "python",
   "nbconvert_exporter": "python",
   "pygments_lexer": "ipython3",
   "version": "3.12.4"
  }
 },
 "nbformat": 4,
 "nbformat_minor": 2
}
