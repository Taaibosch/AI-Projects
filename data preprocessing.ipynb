{
 "cells": [
  {
   "cell_type": "markdown",
   "metadata": {},
   "source": [
    "START HERE"
   ]
  },
  {
   "cell_type": "code",
   "execution_count": 2,
   "metadata": {},
   "outputs": [
    {
     "name": "stdout",
     "output_type": "stream",
     "text": [
      "26\n",
      "Loaded 2575 images with labels: [ 0  0  0 ... 25 25 25]\n"
     ]
    }
   ],
   "source": [
    "# \n",
    "\n",
    "import os\n",
    "import cv2\n",
    "import numpy as np\n",
    "\n",
    "# Define the paths to the labeled data folders (without resize_images call)\n",
    "data_folders = [\n",
    "    'Data_collected/Labeled_data/A',\n",
    "    'Data_collected/Labeled_data/B',\n",
    "    'Data_collected/Labeled_data/C',\n",
    "    'Data_collected/Labeled_data/E',\n",
    "    'Data_collected/Labeled_data/F',\n",
    "    'Data_collected/Labeled_data/G',\n",
    "    'Data_collected/Labeled_data/H',\n",
    "    'Data_collected/Labeled_data/I',\n",
    "    'Data_collected/Labeled_data/J',\n",
    "    'Data_collected/Labeled_data/K',\n",
    "    'Data_collected/Labeled_data/L',\n",
    "    'Data_collected/Labeled_data/M',\n",
    "    'Data_collected/Labeled_data/N',\n",
    "    'Data_collected/Labeled_data/O',\n",
    "    'Data_collected/Labeled_data/P',\n",
    "    'Data_collected/Labeled_data/Q',\n",
    "    'Data_collected/Labeled_data/R',\n",
    "    'Data_collected/Labeled_data/S',\n",
    "    'Data_collected/Labeled_data/T',\n",
    "    'Data_collected/Labeled_data/U',\n",
    "    'Data_collected/Labeled_data/Y',\n",
    "    'Data_collected/Labeled_data/KEA U RAPELA',\n",
    "    'Data_collected/Labeled_data/KEA U RATA',\n",
    "    'Data_collected/Labeled_data/SPACE',\n",
    "    'Data_collected/Labeled_data/HO BAPALA',\n",
    "    'Data_collected/Labeled_data/HO LOKILE'\n",
    "]\n",
    "\n",
    "\n",
    "\n",
    "print(len(data_folders))\n",
    "\n",
    "\n",
    "# Initialize lists to store images and labels\n",
    "images = []\n",
    "labels = []\n",
    "\n",
    "# Map folder names to numerical labels\n",
    "label_mapping = {\n",
    "    'A': 0, 'B': 1, 'C': 2, 'E': 3, 'F': 4, 'G': 5, 'H': 6, 'I': 7, 'J': 8,\n",
    "    'K': 9, 'L': 10, 'M': 11, 'N': 12, 'O': 13, 'P': 14, 'Q': 15, 'R': 16, \n",
    "    'S': 17, 'T': 18, 'U': 19, 'Y': 20, 'KEA U RAPELA': 21, 'KEA U RATA': 22, \n",
    "    'SPACE': 23, 'HO BAPALA': 24, 'HO LOKILE': 25\n",
    "}\n",
    "\n",
    "# Load images and labels\n",
    "for folder in data_folders:\n",
    "    label = os.path.basename(folder)  # Get the folder name (A, B, C, etc.)\n",
    "\n",
    "    # if folder == 'Data_collected/Labeled_data/SPACE':\n",
    "    #     for i in os.listdir(folder):\n",
    "    #         print(i)\n",
    "    if label in label_mapping:  # Ensure the folder name is in the label mapping\n",
    "        for filename in os.listdir(folder):\n",
    "            if filename.endswith('.jpg') or filename.endswith('.png'):\n",
    "                img_path = os.path.join(folder, filename)\n",
    "                img = cv2.imread(img_path)\n",
    "                if img is not None:\n",
    "                    img_resized = cv2.resize(img, (100, 100))  # Resize image to 100x100\n",
    "                    img_normalized = img_resized / 255.0  # Normalize pixel values\n",
    "                    images.append(img_normalized)  # Append the image to the list\n",
    "                    labels.append(label_mapping[label])  # Append the corresponding label\n",
    "\n",
    "# Convert lists to NumPy arrays\n",
    "images = np.array(images)\n",
    "labels = np.array(labels)\n",
    "\n",
    "print(f\"Loaded {len(images)} images with labels: {labels}\")\n"
   ]
  },
  {
   "cell_type": "code",
   "execution_count": 3,
   "metadata": {},
   "outputs": [
    {
     "name": "stdout",
     "output_type": "stream",
     "text": [
      "Training set: (1802, 100, 100, 3), Validation set: (386, 100, 100, 3), Test set: (387, 100, 100, 3)\n"
     ]
    }
   ],
   "source": [
    "from sklearn.model_selection import train_test_split\n",
    "\n",
    "# Split the dataset\n",
    "X_train, X_temp, y_train, y_temp = train_test_split(images, labels, test_size=0.3, random_state=42)\n",
    "X_val, X_test, y_val, y_test = train_test_split(X_temp, y_temp, test_size=0.5, random_state=42)\n",
    "\n",
    "# Print the shapes of the datasets\n",
    "print(f\"Training set: {X_train.shape}, Validation set: {X_val.shape}, Test set: {X_test.shape}\")\n"
   ]
  },
  {
   "cell_type": "code",
   "execution_count": 4,
   "metadata": {},
   "outputs": [
    {
     "name": "stderr",
     "output_type": "stream",
     "text": [
      "C:\\Users\\Mulane Taaibosch\\AppData\\Roaming\\Python\\Python312\\site-packages\\keras\\src\\layers\\convolutional\\base_conv.py:107: UserWarning: Do not pass an `input_shape`/`input_dim` argument to a layer. When using Sequential models, prefer using an `Input(shape)` object as the first layer in the model instead.\n",
      "  super().__init__(activity_regularizer=activity_regularizer, **kwargs)\n"
     ]
    }
   ],
   "source": [
    "import tensorflow as tf\n",
    "from tensorflow.keras import layers, models\n",
    "\n",
    "def create_model():\n",
    "\n",
    "    # Creating Sequential model\n",
    "    model = models.Sequential([\n",
    "\n",
    "        # Adding a 2D convolutional layer with 32 filters of size 3x3.\n",
    "        layers.Conv2D(32, (3, 3), activation='relu', input_shape=(100, 100, 3)),\n",
    "        layers.MaxPooling2D(pool_size=(2, 2)),\n",
    "        \n",
    "        # Indroducing non-linearity using  relu activation function\n",
    "        # Another 2D convolutional layer is added with 64 filters of size 3x3.\n",
    "        layers.Conv2D(64, (3, 3), activation='relu'),\n",
    "        layers.MaxPooling2D(pool_size=(2, 2)),\n",
    "        \n",
    "        # Another 2D convolutional layer is added with 128 filters of size 3x3.\n",
    "        layers.Conv2D(128, (3, 3), activation='relu'),\n",
    "        layers.MaxPooling2D(pool_size=(2, 2)),\n",
    "        \n",
    "        # Flatten the 3D output from the last convolutional layer into \n",
    "        # a 1D vector so that it can be passed into the fully connected (dense) layers.\n",
    "        layers.Flatten(),\n",
    "        layers.Dense(128, activation='relu'),\n",
    "        layers.Dropout(0.5),  # Regularization to prevent overfitting\n",
    "        layers.Dense(26, activation='softmax')  # For 23 classes (A, B, C, ...)\n",
    "    ])\n",
    "    \n",
    "    return model\n",
    "\n",
    "# Instantiate the model\n",
    "model = create_model()\n"
   ]
  },
  {
   "cell_type": "code",
   "execution_count": 5,
   "metadata": {},
   "outputs": [
    {
     "name": "stdout",
     "output_type": "stream",
     "text": [
      "<Sequential name=sequential, built=True>\n"
     ]
    }
   ],
   "source": [
    "model.compile(optimizer='adam',  \n",
    "              loss='sparse_categorical_crossentropy',  # for one-hot labels\n",
    "              metrics=['accuracy'])\n",
    "\n",
    "print(model)"
   ]
  },
  {
   "cell_type": "code",
   "execution_count": 6,
   "metadata": {},
   "outputs": [
    {
     "data": {
      "text/html": [
       "<pre style=\"white-space:pre;overflow-x:auto;line-height:normal;font-family:Menlo,'DejaVu Sans Mono',consolas,'Courier New',monospace\"><span style=\"font-weight: bold\">Model: \"sequential\"</span>\n",
       "</pre>\n"
      ],
      "text/plain": [
       "\u001b[1mModel: \"sequential\"\u001b[0m\n"
      ]
     },
     "metadata": {},
     "output_type": "display_data"
    },
    {
     "data": {
      "text/html": [
       "<pre style=\"white-space:pre;overflow-x:auto;line-height:normal;font-family:Menlo,'DejaVu Sans Mono',consolas,'Courier New',monospace\">┏━━━━━━━━━━━━━━━━━━━━━━━━━━━━━━━━━┳━━━━━━━━━━━━━━━━━━━━━━━━┳━━━━━━━━━━━━━━━┓\n",
       "┃<span style=\"font-weight: bold\"> Layer (type)                    </span>┃<span style=\"font-weight: bold\"> Output Shape           </span>┃<span style=\"font-weight: bold\">       Param # </span>┃\n",
       "┡━━━━━━━━━━━━━━━━━━━━━━━━━━━━━━━━━╇━━━━━━━━━━━━━━━━━━━━━━━━╇━━━━━━━━━━━━━━━┩\n",
       "│ conv2d (<span style=\"color: #0087ff; text-decoration-color: #0087ff\">Conv2D</span>)                 │ (<span style=\"color: #00d7ff; text-decoration-color: #00d7ff\">None</span>, <span style=\"color: #00af00; text-decoration-color: #00af00\">98</span>, <span style=\"color: #00af00; text-decoration-color: #00af00\">98</span>, <span style=\"color: #00af00; text-decoration-color: #00af00\">32</span>)     │           <span style=\"color: #00af00; text-decoration-color: #00af00\">896</span> │\n",
       "├─────────────────────────────────┼────────────────────────┼───────────────┤\n",
       "│ max_pooling2d (<span style=\"color: #0087ff; text-decoration-color: #0087ff\">MaxPooling2D</span>)    │ (<span style=\"color: #00d7ff; text-decoration-color: #00d7ff\">None</span>, <span style=\"color: #00af00; text-decoration-color: #00af00\">49</span>, <span style=\"color: #00af00; text-decoration-color: #00af00\">49</span>, <span style=\"color: #00af00; text-decoration-color: #00af00\">32</span>)     │             <span style=\"color: #00af00; text-decoration-color: #00af00\">0</span> │\n",
       "├─────────────────────────────────┼────────────────────────┼───────────────┤\n",
       "│ conv2d_1 (<span style=\"color: #0087ff; text-decoration-color: #0087ff\">Conv2D</span>)               │ (<span style=\"color: #00d7ff; text-decoration-color: #00d7ff\">None</span>, <span style=\"color: #00af00; text-decoration-color: #00af00\">47</span>, <span style=\"color: #00af00; text-decoration-color: #00af00\">47</span>, <span style=\"color: #00af00; text-decoration-color: #00af00\">64</span>)     │        <span style=\"color: #00af00; text-decoration-color: #00af00\">18,496</span> │\n",
       "├─────────────────────────────────┼────────────────────────┼───────────────┤\n",
       "│ max_pooling2d_1 (<span style=\"color: #0087ff; text-decoration-color: #0087ff\">MaxPooling2D</span>)  │ (<span style=\"color: #00d7ff; text-decoration-color: #00d7ff\">None</span>, <span style=\"color: #00af00; text-decoration-color: #00af00\">23</span>, <span style=\"color: #00af00; text-decoration-color: #00af00\">23</span>, <span style=\"color: #00af00; text-decoration-color: #00af00\">64</span>)     │             <span style=\"color: #00af00; text-decoration-color: #00af00\">0</span> │\n",
       "├─────────────────────────────────┼────────────────────────┼───────────────┤\n",
       "│ conv2d_2 (<span style=\"color: #0087ff; text-decoration-color: #0087ff\">Conv2D</span>)               │ (<span style=\"color: #00d7ff; text-decoration-color: #00d7ff\">None</span>, <span style=\"color: #00af00; text-decoration-color: #00af00\">21</span>, <span style=\"color: #00af00; text-decoration-color: #00af00\">21</span>, <span style=\"color: #00af00; text-decoration-color: #00af00\">128</span>)    │        <span style=\"color: #00af00; text-decoration-color: #00af00\">73,856</span> │\n",
       "├─────────────────────────────────┼────────────────────────┼───────────────┤\n",
       "│ max_pooling2d_2 (<span style=\"color: #0087ff; text-decoration-color: #0087ff\">MaxPooling2D</span>)  │ (<span style=\"color: #00d7ff; text-decoration-color: #00d7ff\">None</span>, <span style=\"color: #00af00; text-decoration-color: #00af00\">10</span>, <span style=\"color: #00af00; text-decoration-color: #00af00\">10</span>, <span style=\"color: #00af00; text-decoration-color: #00af00\">128</span>)    │             <span style=\"color: #00af00; text-decoration-color: #00af00\">0</span> │\n",
       "├─────────────────────────────────┼────────────────────────┼───────────────┤\n",
       "│ flatten (<span style=\"color: #0087ff; text-decoration-color: #0087ff\">Flatten</span>)               │ (<span style=\"color: #00d7ff; text-decoration-color: #00d7ff\">None</span>, <span style=\"color: #00af00; text-decoration-color: #00af00\">12800</span>)          │             <span style=\"color: #00af00; text-decoration-color: #00af00\">0</span> │\n",
       "├─────────────────────────────────┼────────────────────────┼───────────────┤\n",
       "│ dense (<span style=\"color: #0087ff; text-decoration-color: #0087ff\">Dense</span>)                   │ (<span style=\"color: #00d7ff; text-decoration-color: #00d7ff\">None</span>, <span style=\"color: #00af00; text-decoration-color: #00af00\">128</span>)            │     <span style=\"color: #00af00; text-decoration-color: #00af00\">1,638,528</span> │\n",
       "├─────────────────────────────────┼────────────────────────┼───────────────┤\n",
       "│ dropout (<span style=\"color: #0087ff; text-decoration-color: #0087ff\">Dropout</span>)               │ (<span style=\"color: #00d7ff; text-decoration-color: #00d7ff\">None</span>, <span style=\"color: #00af00; text-decoration-color: #00af00\">128</span>)            │             <span style=\"color: #00af00; text-decoration-color: #00af00\">0</span> │\n",
       "├─────────────────────────────────┼────────────────────────┼───────────────┤\n",
       "│ dense_1 (<span style=\"color: #0087ff; text-decoration-color: #0087ff\">Dense</span>)                 │ (<span style=\"color: #00d7ff; text-decoration-color: #00d7ff\">None</span>, <span style=\"color: #00af00; text-decoration-color: #00af00\">26</span>)             │         <span style=\"color: #00af00; text-decoration-color: #00af00\">3,354</span> │\n",
       "└─────────────────────────────────┴────────────────────────┴───────────────┘\n",
       "</pre>\n"
      ],
      "text/plain": [
       "┏━━━━━━━━━━━━━━━━━━━━━━━━━━━━━━━━━┳━━━━━━━━━━━━━━━━━━━━━━━━┳━━━━━━━━━━━━━━━┓\n",
       "┃\u001b[1m \u001b[0m\u001b[1mLayer (type)                   \u001b[0m\u001b[1m \u001b[0m┃\u001b[1m \u001b[0m\u001b[1mOutput Shape          \u001b[0m\u001b[1m \u001b[0m┃\u001b[1m \u001b[0m\u001b[1m      Param #\u001b[0m\u001b[1m \u001b[0m┃\n",
       "┡━━━━━━━━━━━━━━━━━━━━━━━━━━━━━━━━━╇━━━━━━━━━━━━━━━━━━━━━━━━╇━━━━━━━━━━━━━━━┩\n",
       "│ conv2d (\u001b[38;5;33mConv2D\u001b[0m)                 │ (\u001b[38;5;45mNone\u001b[0m, \u001b[38;5;34m98\u001b[0m, \u001b[38;5;34m98\u001b[0m, \u001b[38;5;34m32\u001b[0m)     │           \u001b[38;5;34m896\u001b[0m │\n",
       "├─────────────────────────────────┼────────────────────────┼───────────────┤\n",
       "│ max_pooling2d (\u001b[38;5;33mMaxPooling2D\u001b[0m)    │ (\u001b[38;5;45mNone\u001b[0m, \u001b[38;5;34m49\u001b[0m, \u001b[38;5;34m49\u001b[0m, \u001b[38;5;34m32\u001b[0m)     │             \u001b[38;5;34m0\u001b[0m │\n",
       "├─────────────────────────────────┼────────────────────────┼───────────────┤\n",
       "│ conv2d_1 (\u001b[38;5;33mConv2D\u001b[0m)               │ (\u001b[38;5;45mNone\u001b[0m, \u001b[38;5;34m47\u001b[0m, \u001b[38;5;34m47\u001b[0m, \u001b[38;5;34m64\u001b[0m)     │        \u001b[38;5;34m18,496\u001b[0m │\n",
       "├─────────────────────────────────┼────────────────────────┼───────────────┤\n",
       "│ max_pooling2d_1 (\u001b[38;5;33mMaxPooling2D\u001b[0m)  │ (\u001b[38;5;45mNone\u001b[0m, \u001b[38;5;34m23\u001b[0m, \u001b[38;5;34m23\u001b[0m, \u001b[38;5;34m64\u001b[0m)     │             \u001b[38;5;34m0\u001b[0m │\n",
       "├─────────────────────────────────┼────────────────────────┼───────────────┤\n",
       "│ conv2d_2 (\u001b[38;5;33mConv2D\u001b[0m)               │ (\u001b[38;5;45mNone\u001b[0m, \u001b[38;5;34m21\u001b[0m, \u001b[38;5;34m21\u001b[0m, \u001b[38;5;34m128\u001b[0m)    │        \u001b[38;5;34m73,856\u001b[0m │\n",
       "├─────────────────────────────────┼────────────────────────┼───────────────┤\n",
       "│ max_pooling2d_2 (\u001b[38;5;33mMaxPooling2D\u001b[0m)  │ (\u001b[38;5;45mNone\u001b[0m, \u001b[38;5;34m10\u001b[0m, \u001b[38;5;34m10\u001b[0m, \u001b[38;5;34m128\u001b[0m)    │             \u001b[38;5;34m0\u001b[0m │\n",
       "├─────────────────────────────────┼────────────────────────┼───────────────┤\n",
       "│ flatten (\u001b[38;5;33mFlatten\u001b[0m)               │ (\u001b[38;5;45mNone\u001b[0m, \u001b[38;5;34m12800\u001b[0m)          │             \u001b[38;5;34m0\u001b[0m │\n",
       "├─────────────────────────────────┼────────────────────────┼───────────────┤\n",
       "│ dense (\u001b[38;5;33mDense\u001b[0m)                   │ (\u001b[38;5;45mNone\u001b[0m, \u001b[38;5;34m128\u001b[0m)            │     \u001b[38;5;34m1,638,528\u001b[0m │\n",
       "├─────────────────────────────────┼────────────────────────┼───────────────┤\n",
       "│ dropout (\u001b[38;5;33mDropout\u001b[0m)               │ (\u001b[38;5;45mNone\u001b[0m, \u001b[38;5;34m128\u001b[0m)            │             \u001b[38;5;34m0\u001b[0m │\n",
       "├─────────────────────────────────┼────────────────────────┼───────────────┤\n",
       "│ dense_1 (\u001b[38;5;33mDense\u001b[0m)                 │ (\u001b[38;5;45mNone\u001b[0m, \u001b[38;5;34m26\u001b[0m)             │         \u001b[38;5;34m3,354\u001b[0m │\n",
       "└─────────────────────────────────┴────────────────────────┴───────────────┘\n"
      ]
     },
     "metadata": {},
     "output_type": "display_data"
    },
    {
     "data": {
      "text/html": [
       "<pre style=\"white-space:pre;overflow-x:auto;line-height:normal;font-family:Menlo,'DejaVu Sans Mono',consolas,'Courier New',monospace\"><span style=\"font-weight: bold\"> Total params: </span><span style=\"color: #00af00; text-decoration-color: #00af00\">1,735,130</span> (6.62 MB)\n",
       "</pre>\n"
      ],
      "text/plain": [
       "\u001b[1m Total params: \u001b[0m\u001b[38;5;34m1,735,130\u001b[0m (6.62 MB)\n"
      ]
     },
     "metadata": {},
     "output_type": "display_data"
    },
    {
     "data": {
      "text/html": [
       "<pre style=\"white-space:pre;overflow-x:auto;line-height:normal;font-family:Menlo,'DejaVu Sans Mono',consolas,'Courier New',monospace\"><span style=\"font-weight: bold\"> Trainable params: </span><span style=\"color: #00af00; text-decoration-color: #00af00\">1,735,130</span> (6.62 MB)\n",
       "</pre>\n"
      ],
      "text/plain": [
       "\u001b[1m Trainable params: \u001b[0m\u001b[38;5;34m1,735,130\u001b[0m (6.62 MB)\n"
      ]
     },
     "metadata": {},
     "output_type": "display_data"
    },
    {
     "data": {
      "text/html": [
       "<pre style=\"white-space:pre;overflow-x:auto;line-height:normal;font-family:Menlo,'DejaVu Sans Mono',consolas,'Courier New',monospace\"><span style=\"font-weight: bold\"> Non-trainable params: </span><span style=\"color: #00af00; text-decoration-color: #00af00\">0</span> (0.00 B)\n",
       "</pre>\n"
      ],
      "text/plain": [
       "\u001b[1m Non-trainable params: \u001b[0m\u001b[38;5;34m0\u001b[0m (0.00 B)\n"
      ]
     },
     "metadata": {},
     "output_type": "display_data"
    }
   ],
   "source": [
    "model.summary()"
   ]
  },
  {
   "cell_type": "code",
   "execution_count": 7,
   "metadata": {},
   "outputs": [
    {
     "name": "stdout",
     "output_type": "stream",
     "text": [
      "Epoch 1/10\n",
      "\u001b[1m57/57\u001b[0m \u001b[32m━━━━━━━━━━━━━━━━━━━━\u001b[0m\u001b[37m\u001b[0m \u001b[1m41s\u001b[0m 366ms/step - accuracy: 0.1547 - loss: 2.9650 - val_accuracy: 0.8316 - val_loss: 0.6591\n",
      "Epoch 2/10\n",
      "\u001b[1m57/57\u001b[0m \u001b[32m━━━━━━━━━━━━━━━━━━━━\u001b[0m\u001b[37m\u001b[0m \u001b[1m36s\u001b[0m 364ms/step - accuracy: 0.7072 - loss: 1.0082 - val_accuracy: 0.9767 - val_loss: 0.1441\n",
      "Epoch 3/10\n",
      "\u001b[1m57/57\u001b[0m \u001b[32m━━━━━━━━━━━━━━━━━━━━\u001b[0m\u001b[37m\u001b[0m \u001b[1m22s\u001b[0m 378ms/step - accuracy: 0.8945 - loss: 0.3598 - val_accuracy: 0.9819 - val_loss: 0.0939\n",
      "Epoch 4/10\n",
      "\u001b[1m57/57\u001b[0m \u001b[32m━━━━━━━━━━━━━━━━━━━━\u001b[0m\u001b[37m\u001b[0m \u001b[1m22s\u001b[0m 384ms/step - accuracy: 0.9239 - loss: 0.2310 - val_accuracy: 0.9896 - val_loss: 0.0423\n",
      "Epoch 5/10\n",
      "\u001b[1m57/57\u001b[0m \u001b[32m━━━━━━━━━━━━━━━━━━━━\u001b[0m\u001b[37m\u001b[0m \u001b[1m21s\u001b[0m 365ms/step - accuracy: 0.9360 - loss: 0.1823 - val_accuracy: 0.9870 - val_loss: 0.0497\n",
      "Epoch 6/10\n",
      "\u001b[1m57/57\u001b[0m \u001b[32m━━━━━━━━━━━━━━━━━━━━\u001b[0m\u001b[37m\u001b[0m \u001b[1m21s\u001b[0m 367ms/step - accuracy: 0.9670 - loss: 0.1213 - val_accuracy: 0.9922 - val_loss: 0.0296\n",
      "Epoch 7/10\n",
      "\u001b[1m57/57\u001b[0m \u001b[32m━━━━━━━━━━━━━━━━━━━━\u001b[0m\u001b[37m\u001b[0m \u001b[1m20s\u001b[0m 354ms/step - accuracy: 0.9606 - loss: 0.1328 - val_accuracy: 0.9922 - val_loss: 0.0350\n",
      "Epoch 8/10\n",
      "\u001b[1m57/57\u001b[0m \u001b[32m━━━━━━━━━━━━━━━━━━━━\u001b[0m\u001b[37m\u001b[0m \u001b[1m21s\u001b[0m 370ms/step - accuracy: 0.9580 - loss: 0.1373 - val_accuracy: 0.9948 - val_loss: 0.0280\n",
      "Epoch 9/10\n",
      "\u001b[1m57/57\u001b[0m \u001b[32m━━━━━━━━━━━━━━━━━━━━\u001b[0m\u001b[37m\u001b[0m \u001b[1m22s\u001b[0m 393ms/step - accuracy: 0.9745 - loss: 0.0959 - val_accuracy: 0.9948 - val_loss: 0.0192\n",
      "Epoch 10/10\n",
      "\u001b[1m57/57\u001b[0m \u001b[32m━━━━━━━━━━━━━━━━━━━━\u001b[0m\u001b[37m\u001b[0m \u001b[1m19s\u001b[0m 339ms/step - accuracy: 0.9685 - loss: 0.0884 - val_accuracy: 0.9922 - val_loss: 0.0325\n"
     ]
    }
   ],
   "source": [
    "history = model.fit(X_train, y_train,\n",
    "                    validation_data=(X_val, y_val),\n",
    "                    epochs=10,  # Setting the number of epochs\n",
    "                    batch_size=32)  # Set batch size\n"
   ]
  },
  {
   "cell_type": "code",
   "execution_count": 8,
   "metadata": {},
   "outputs": [
    {
     "name": "stdout",
     "output_type": "stream",
     "text": [
      "\u001b[1m13/13\u001b[0m \u001b[32m━━━━━━━━━━━━━━━━━━━━\u001b[0m\u001b[37m\u001b[0m \u001b[1m1s\u001b[0m 103ms/step - accuracy: 1.0000 - loss: 6.5697e-04\n",
      "Test accuracy: 1.0000, Test loss: 0.0007\n"
     ]
    }
   ],
   "source": [
    "test_loss, test_accuracy = model.evaluate(X_test, y_test)\n",
    "print(f\"Test accuracy: {test_accuracy:.4f}, Test loss: {test_loss:.4f}\")\n"
   ]
  },
  {
   "cell_type": "code",
   "execution_count": 9,
   "metadata": {},
   "outputs": [
    {
     "data": {
      "image/png": "[encoded data removed]",
      "text/plain": [
       "<Figure size 640x480 with 1 Axes>"
      ]
     },
     "metadata": {},
     "output_type": "display_data"
    },
    {
     "data": {
      "image/png": "[encoded data removed]",
      "text/plain": [
       "<Figure size 640x480 with 1 Axes>"
      ]
     },
     "metadata": {},
     "output_type": "display_data"
    }
   ],
   "source": [
    "import matplotlib.pyplot as plt\n",
    "\n",
    "# Plot training & validation accuracy values\n",
    "plt.plot(history.history['accuracy'])\n",
    "plt.plot(history.history['val_accuracy'])\n",
    "plt.title('Model accuracy')\n",
    "plt.ylabel('Accuracy')\n",
    "plt.xlabel('Epoch')\n",
    "plt.legend(['Train', 'Validation'], loc='upper left')\n",
    "plt.show()\n",
    "\n",
    "# Plot training & validation loss values\n",
    "plt.plot(history.history['loss'])\n",
    "plt.plot(history.history['val_loss'])\n",
    "plt.title('Model loss')\n",
    "plt.ylabel('Loss')\n",
    "plt.xlabel('Epoch')\n",
    "plt.legend(['Train', 'Validation'], loc='upper left')\n",
    "plt.show()\n"
   ]
  },
  {
   "cell_type": "code",
   "execution_count": 10,
   "metadata": {},
   "outputs": [],
   "source": [
    "model.save('Sesotho recognition Model.keras') # saving model for future use\n"
   ]
  },
  {
   "cell_type": "markdown",
   "metadata": {},
   "source": [
    "MODEL TESTING"
   ]
  },
  {
   "cell_type": "code",
   "execution_count": 11,
   "metadata": {},
   "outputs": [
    {
     "name": "stderr",
     "output_type": "stream",
     "text": [
      "\n",
      "KeyboardInterrupt\n",
      "\n"
     ]
    }
   ],
   "source": [
    "import cv2\n",
    "import numpy as np\n",
    "import tensorflow as tf\n",
    "import time\n",
    "from cvzone.HandTrackingModule import HandDetector\n",
    "\n",
    "# Load the pre-trained model\n",
    "model = tf.keras.models.load_model('sesotho phrases.keras')\n",
    "\n",
    "# Initialize hand detector\n",
    "detector = HandDetector(maxHands=2)\n",
    "\n",
    "# Set parameters\n",
    "image_size = 100  # The size to which images were resized during training\n",
    "offset = 20       # Offset for cropping the hand region\n",
    "\n",
    "# Start video capture from webcam\n",
    "video_cap = cv2.VideoCapture(0)\n",
    "\n",
    "# Initialize an empty string to store the constructed word\n",
    "constructed_word = \"\"\n",
    "stored_word = \"\"  # Variable to store the final constructed word\n",
    "\n",
    "gesture_mapping = {\n",
    "    0: 'A', 1: 'B', 2: 'C', 3: 'E', 4: 'F', 5: 'G', 6: 'H', 7: 'I', 8: 'J', 9: 'K',\n",
    "    10: 'L', 11: 'M', 12: 'N', 13: 'O', 14: 'P', 15: 'Q', 16: 'R', 17: 'S', 18: 'T', \n",
    "    19: 'U', 20: 'Y', 21: 'KEA U RAPELA', 22: 'KEA U RATA', 23: 'SPACE'\n",
    "}\n",
    "\n",
    "# Timer for controlling gesture detection intervals\n",
    "last_detection_time = time.time()\n",
    "detection_interval = 5  # Set the detection interval to 5 seconds\n",
    "\n",
    "# Initial delay before starting gesture detection\n",
    "print(\"Starting gesture detection in 5 seconds...\")\n",
    "time.sleep(5)\n",
    "\n",
    "\n",
    "try:\n",
    "    print(\"The video has started\")\n",
    "    while True:\n",
    "        success, image = video_cap.read()\n",
    "        if not success:\n",
    "            break\n",
    "        \n",
    "        # Detect hand(s) in the video frame\n",
    "        hands, image = detector.findHands(image)\n",
    "\n",
    "        # Get the current time\n",
    "        current_time = time.time()\n",
    "\n",
    "        # Making delay between alphabets\n",
    "        if hands and (current_time - last_detection_time >= detection_interval):\n",
    "            # Update the last detection time\n",
    "            last_detection_time = current_time\n",
    "\n",
    "            hand = hands[0]\n",
    "            x, y, w, h = hand['bbox']  # Get the bounding box of the hand\n",
    "\n",
    "            # Prepare a white background for the hand image\n",
    "            image_white = np.ones((image_size, image_size, 3), np.uint8) * 255\n",
    "\n",
    "            # Crop the hand region from the image\n",
    "            image_crop = image[y - offset: y + h + offset, x - offset: x + w + offset]\n",
    "\n",
    "            # Check the aspect ratio of the hand to resize appropriately\n",
    "            aspect_ratio = h / w\n",
    "\n",
    "            if aspect_ratio > 1:\n",
    "                constant = image_size / h\n",
    "                width_calculated = int(constant * w)\n",
    "                image_resize = cv2.resize(image_crop, (width_calculated, image_size))\n",
    "                width_gap = (image_size - width_calculated) // 2\n",
    "                image_white[:, width_gap: width_gap + width_calculated] = image_resize\n",
    "            else:\n",
    "                constant = image_size / w\n",
    "                height_calculated = int(constant * h)\n",
    "                image_resize = cv2.resize(image_crop, (image_size, height_calculated))\n",
    "                height_gap = (image_size - height_calculated) // 2\n",
    "                image_white[height_gap: height_gap + height_calculated, :] = image_resize\n",
    "\n",
    "            # Normalize the image as done in training\n",
    "            image_white_normalized = image_white / 255.0\n",
    "\n",
    "            # Add a batch dimension (since the model expects batches of inputs)\n",
    "            image_input = np.expand_dims(image_white_normalized, axis=0)\n",
    "\n",
    "            # Make a prediction\n",
    "            prediction = model.predict(image_input)\n",
    "            predicted_class = np.argmax(prediction, axis=1)[0]  # Get the index of the highest probability\n",
    "\n",
    "            # Map predicted class index back to corresponding gesture\n",
    "            predicted_gesture = gesture_mapping.get(predicted_class, \"Unknown\")\n",
    "            time.sleep(3)\n",
    "\n",
    "            # Append the predicted gesture to the constructed word\n",
    "            constructed_word += predicted_gesture\n",
    "\n",
    "            # Output the constructed word to the console without breaking the line\n",
    "            print(f\"\\rConstructed Word: {constructed_word}\", end=\"\")\n",
    "\n",
    "            # Optionally, display the cropped hand and white background for verification\n",
    "            cv2.imshow(\"ImageCrop\", image_crop)\n",
    "            cv2.imshow(\"ImageWhite\", image_white)\n",
    "\n",
    "        # Show the webcam feed (optional)\n",
    "        if cv2.imshow(\"Video\", image):\n",
    "            print(\"starting video feed\")\n",
    "\n",
    "        # Exit loop when 'q' is pressed\n",
    "        key = cv2.waitKey(1)\n",
    "        if key == ord('q'):\n",
    "            # Store the constructed word into stored_word before quitting\n",
    "            stored_word = constructed_word\n",
    "\n",
    "            # Save the final word into a file\n",
    "            with open('stored_text_gestures/stored_words.txt', 'w') as f:\n",
    "                f.write(stored_word)\n",
    "            print(f\"\\nFinal Constructed Word: {stored_word}\")\n",
    "            break\n",
    "\n",
    "    # Release video capture and close windows\n",
    "    video_cap.release()\n",
    "    cv2.destroyAllWindows()\n",
    "except():\n",
    "    print(\"The video did not start\")\n",
    "\n",
    "\n"
   ]
  },
  {
   "cell_type": "markdown",
   "metadata": {},
   "source": [
    "CONVERETING STORED WORD TO SPEECH"
   ]
  },
  {
   "cell_type": "markdown",
   "metadata": {},
   "source": [
    "CONVERTING TO VIDEO"
   ]
  },
  {
   "cell_type": "code",
   "execution_count": null,
   "metadata": {},
   "outputs": [],
   "source": []
  },
  {
   "cell_type": "code",
   "execution_count": 6,
   "metadata": {},
   "outputs": [
    {
     "name": "stdout",
     "output_type": "stream",
     "text": [
      "Path exists\n"
     ]
    }
   ],
   "source": [
    "import os\n",
    "word = 'KEA U RATA'\n",
    "\n",
    "\n",
    "if os.path.exists(main_folder):\n",
    "    print(\"Path exists\")"
   ]
  }
 ],
 "metadata": {
  "kernelspec": {
   "display_name": "base",
   "language": "python",
   "name": "python3"
  },
  "language_info": {
   "codemirror_mode": {
    "name": "ipython",
    "version": 3
   },
   "file_extension": ".py",
   "mimetype": "text/x-python",
   "name": "python",
   "nbconvert_exporter": "python",
   "pygments_lexer": "ipython3",
   "version": "3.12.4"
  }
 },
 "nbformat": 4,
 "nbformat_minor": 2
}
