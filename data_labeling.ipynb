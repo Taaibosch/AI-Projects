{
 "cells": [
  {
   "cell_type": "markdown",
   "metadata": {},
   "source": [
    "LABELING IMAGES AND SAVING THEM IMAGES TO A NEW DIR"
   ]
  },
  {
   "cell_type": "code",
   "execution_count": 1,
   "metadata": {},
   "outputs": [
    {
     "name": "stdout",
     "output_type": "stream",
     "text": [
      "Labeling, resizing, and saving of images completed.\n"
     ]
    }
   ],
   "source": [
    "import os\n",
    "import shutil\n",
    "from PIL import Image\n",
    "\n",
    "# Define the source and destination directories\n",
    "source_dir = \"Data_collected/HO BAPALA\"\n",
    "dest_dir = \"Data_collected/Labeled_data/HO BAPALA\"\n",
    "\n",
    "# Ensure the destination directory exists, if not, create it\n",
    "os.makedirs(dest_dir, exist_ok=True)\n",
    "\n",
    "# Get the count of images already in the destination directory\n",
    "count = len([name for name in os.listdir(dest_dir) if os.path.isfile(os.path.join(dest_dir, name))])\n",
    "\n",
    "# Iterate over all files in the source directory\n",
    "for filename in os.listdir(source_dir):\n",
    "    if filename.endswith(\".png\") or filename.endswith(\".jpg\") or filename.endswith(\".jpeg\"):\n",
    "        while True:\n",
    "            count += 1\n",
    "            new_filename = f\"HO BAPALA_{count}.png\"\n",
    "            new_filepath = os.path.join(dest_dir, new_filename)\n",
    "    \n",
    "            \n",
    "            # Check if the file exists in the destination directory\n",
    "            if not os.path.exists(new_filepath):\n",
    "                break\n",
    "\n",
    "        # Open the image, resize it, and save to the destination directory\n",
    "        img_path = os.path.join(source_dir, filename)\n",
    "        with Image.open(img_path) as img:\n",
    "            # Resize the image to 50x50\n",
    "            img_resized = img.resize((100, 100))\n",
    "            # Save the resized image to the destination directory with the new name\n",
    "            img_resized.save(new_filepath)\n",
    "\n",
    "print(\"Labeling, resizing, and saving of images completed.\")\n"
   ]
  },
  {
   "cell_type": "markdown",
   "metadata": {},
   "source": [
    "LABELING AUDIO"
   ]
  },
  {
   "cell_type": "code",
   "execution_count": 3,
   "metadata": {},
   "outputs": [
    {
     "name": "stdout",
     "output_type": "stream",
     "text": [
      "All voice records have been labeled and saved in Data_collected/Audio/Labeled audio/KEA U RAPELA.\n"
     ]
    }
   ],
   "source": [
    "import os\n",
    "import shutil\n",
    "\n",
    "# Define the source directory where your voice records are stored\n",
    "source_folder = \"Data_collected/Audio/KEA U RAPELA\"\n",
    "\n",
    "# Define the destination directory where the labeled audio files will be stored\n",
    "destination_folder = \"Data_collected/Audio/Labeled audio/KEA U RAPELA\"\n",
    "\n",
    "# Create the destination folder if it doesn't exist\n",
    "if not os.path.exists(destination_folder):\n",
    "    os.makedirs(destination_folder)\n",
    "\n",
    "# Initialize a counter\n",
    "counter = 1\n",
    "\n",
    "# Loop through all the files in the source folder\n",
    "for filename in os.listdir(source_folder):\n",
    "    # Only process audio files (assuming they are .wav or .mp3, you can add other extensions if needed)\n",
    "    if filename.endswith((\".wav\", \".mp3\", \".m4a\")):\n",
    "        # Construct the full path of the source file\n",
    "        source_file = os.path.join(source_folder, filename)\n",
    "\n",
    "        # Create the new labeled filename with the counter to avoid duplicates\n",
    "        labeled_filename = f\"KEA U RAPELA_{counter}{os.path.splitext(filename)[1]}\"  # Keeps the original extension\n",
    "\n",
    "        # Construct the full path of the destination file\n",
    "        destination_file = os.path.join(destination_folder, labeled_filename)\n",
    "\n",
    "        # Copy the file to the destination folder with the new name\n",
    "        shutil.copy(source_file, destination_file)\n",
    "\n",
    "        # Increment the counter to avoid duplicate names\n",
    "        counter += 1\n",
    "\n",
    "print(f\"All voice records have been labeled and saved in {destination_folder}.\")\n"
   ]
  }
 ],
 "metadata": {
  "kernelspec": {
   "display_name": "base",
   "language": "python",
   "name": "python3"
  },
  "language_info": {
   "codemirror_mode": {
    "name": "ipython",
    "version": 3
   },
   "file_extension": ".py",
   "mimetype": "text/x-python",
   "name": "python",
   "nbconvert_exporter": "python",
   "pygments_lexer": "ipython3",
   "version": "3.12.4"
  }
 },
 "nbformat": 4,
 "nbformat_minor": 2
}
